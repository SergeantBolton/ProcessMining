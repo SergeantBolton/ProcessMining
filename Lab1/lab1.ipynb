{
 "cells": [
  {
   "cell_type": "markdown",
   "metadata": {},
   "source": [
    "Exercise 0 - Example"
   ]
  },
  {
   "cell_type": "code",
   "execution_count": 1,
   "metadata": {},
   "outputs": [
    {
     "data": {
      "text/plain": [
       "923521"
      ]
     },
     "execution_count": 1,
     "metadata": {},
     "output_type": "execute_result"
    }
   ],
   "source": [
    "q = 31\n",
    "q ** 4"
   ]
  },
  {
   "cell_type": "markdown",
   "metadata": {},
   "source": [
    "Exercise 1"
   ]
  },
  {
   "cell_type": "code",
   "execution_count": 8,
   "metadata": {},
   "outputs": [
    {
     "name": "stdout",
     "output_type": "stream",
     "text": [
      "<class 'list'>\n",
      "<class 'tuple'>\n",
      "<class 'dict'>\n"
     ]
    }
   ],
   "source": [
    "# Create arbitrary list, tuple and dictionary and print them\n",
    "\n",
    "#list\n",
    "x = [1,2,3,4,\"a\",\"b\",\"c\",\"d\"]\n",
    "z_1=type(x)\n",
    "\n",
    "#tuple\n",
    "x = (1,2,3,4,\"a\",\"b\",\"c\",\"d\")\n",
    "z_2=type(x)\n",
    "\n",
    "#dictionary\n",
    "x = {'Name': 'Mykhailo', 1: [1, 2, 3, 4]}\n",
    "z_3=type(x)\n",
    "\n",
    "print(z_1)\n",
    "print(z_2)\n",
    "print(z_3)"
   ]
  },
  {
   "cell_type": "markdown",
   "metadata": {},
   "source": [
    "Exercise 2"
   ]
  },
  {
   "cell_type": "code",
   "execution_count": 6,
   "metadata": {},
   "outputs": [
    {
     "name": "stdout",
     "output_type": "stream",
     "text": [
      "-0.11057359356192323\n",
      "[-0.11057359  0.62526353  0.45275718  0.874629   -0.71963275  0.56065776\n",
      "  1.04424047  0.41341353  0.77576646  0.16910592]\n",
      "[0.14103793 0.83993633 0.49616571 0.74652045 0.68261706 0.62526353\n",
      " 0.45275718 0.874629   0.56065776 1.04424047 0.41341353 0.77576646\n",
      " 0.16910592 0.62521059 1.67251103 0.44546803 1.34435649 0.58935729\n",
      " 1.21422174 0.43511827 2.48312522 1.04261816 0.24451565 2.23990235\n",
      " 0.13130342 1.70868906 1.1636961  0.10612469 1.52488991 0.44145969\n",
      " 0.9008953  2.11582593 0.25494789 0.28619655 1.09808186 0.07921159\n",
      " 1.240189   0.95172416 0.31610942 0.36916301 0.35913861 1.18819511\n",
      " 0.79824452 2.00405363]\n"
     ]
    }
   ],
   "source": [
    "# Print the next elements of array s: 10th, from 10 to 20, all elements more than 0\n",
    "import numpy as np\n",
    "s = np.random.normal(0,1,100)\n",
    "\n",
    "# 10th\n",
    "print(s[9])\n",
    "\n",
    "# from 10 to 20\n",
    "print(s[9:19])\n",
    "\n",
    "# all elements more than 0\n",
    "\n",
    "print(s[s>0]) "
   ]
  },
  {
   "cell_type": "markdown",
   "metadata": {},
   "source": [
    "Exercise 3"
   ]
  },
  {
   "cell_type": "code",
   "execution_count": 34,
   "metadata": {},
   "outputs": [
    {
     "name": "stdout",
     "output_type": "stream",
     "text": [
      "8\n"
     ]
    }
   ],
   "source": [
    "# Make a function pow that raised base number to a fixed power power....\n",
    "# ... if power >= 50 print message \"power is too big\" and return -1\n",
    "\n",
    "def pow(number, power):\n",
    "    if power>=50:\n",
    "        print(\"power is too big\")\n",
    "        return -1\n",
    "    else:\n",
    "        return number**power\n",
    "print(pow(2,3))\n"
   ]
  },
  {
   "cell_type": "markdown",
   "metadata": {},
   "source": [
    "Exercise 4"
   ]
  },
  {
   "cell_type": "code",
   "execution_count": 19,
   "metadata": {},
   "outputs": [
    {
     "name": "stdout",
     "output_type": "stream",
     "text": [
      "[]\n"
     ]
    }
   ],
   "source": [
    "# Make a function above(x,n) which returns all elements x > n. By default n = 10. Use numpy arrays\n",
    "import numpy as np\n",
    "def above(x,n=10):\n",
    "    return x[x>n]\n",
    "print(above(np.random.normal(0,1,100)))"
   ]
  },
  {
   "cell_type": "markdown",
   "metadata": {},
   "source": [
    "Exercise 5"
   ]
  },
  {
   "cell_type": "code",
   "execution_count": 20,
   "metadata": {},
   "outputs": [
    {
     "data": {
      "text/plain": [
       "array([ 1,  2,  3,  4,  5, 10])"
      ]
     },
     "execution_count": 20,
     "metadata": {},
     "output_type": "execute_result"
    }
   ],
   "source": [
    "# Write a function my_ifelse(x, exp, n) which test array x with expression exp to number n. \n",
    "# For instance, my_ifelse(x,'>=',10) returns all elements of array x which greater or equal 10. \n",
    "# exp can be <, >, <=, >=, ==. If exp dont match these expression array x is retured\n",
    "\n",
    "import numpy as np\n",
    "def my_ifelse(x,exp,n):\n",
    "    if exp== \">\" :\n",
    "        return x[x>n]\n",
    "    if exp== \"=\" :\n",
    "        return x[x==n]\n",
    "    if exp== \">=\" :\n",
    "        return x[x>=n]\n",
    "    if exp== \"<\" :\n",
    "        return x[x<n]\n",
    "    if exp== \"<=\" :\n",
    "        return x[x<=n]\n",
    "    else:\n",
    "        return x\n",
    "my_ifelse(np.array([1,2,3,4,5,10,11,12,13,14,15]), \"<=\", 10)\n",
    "    "
   ]
  },
  {
   "cell_type": "markdown",
   "metadata": {},
   "source": [
    "Exercise 6"
   ]
  },
  {
   "cell_type": "code",
   "execution_count": 89,
   "metadata": {},
   "outputs": [
    {
     "name": "stdout",
     "output_type": "stream",
     "text": [
      "{'k': 4, 'a': 5}\n"
     ]
    }
   ],
   "source": [
    "# Make a function called counter that takes a string input_string and returns a dictionary of letter counts.\n",
    "input_string = input(\"Enter the text\")\n",
    "def counter(input_string):    \n",
    "    dict = {}\n",
    "    for i in input_string:\n",
    "        if i in dict:\n",
    "            dict[i]+=1\n",
    "        else:\n",
    "            dict[i]=1\n",
    "    return dict\n",
    "print(counter(input_string))"
   ]
  },
  {
   "cell_type": "markdown",
   "metadata": {},
   "source": [
    "Exercise 7"
   ]
  },
  {
   "cell_type": "code",
   "execution_count": 90,
   "metadata": {},
   "outputs": [
    {
     "name": "stdout",
     "output_type": "stream",
     "text": [
      "{'a': 5, 'k': 4}\n"
     ]
    }
   ],
   "source": [
    "# From the function counter make function counter_sorted with second boolean argumens... \n",
    "# ...reverse that returns sorted letter counts. Order depends of the reverse argument. By default reverse = False\n",
    "def counter_sorted(input_string,reverse_1):\n",
    "    dict_1={}\n",
    "    for i in sorted(input_string,reverse=reverse_1):\n",
    "        if i in dict_1:\n",
    "            dict_1[i]+=1\n",
    "        else:\n",
    "            dict_1[i]=1\n",
    "    return dict_1\n",
    "print(counter_sorted(input_string,False))"
   ]
  },
  {
   "cell_type": "code",
   "execution_count": null,
   "metadata": {},
   "outputs": [],
   "source": []
  }
 ],
 "metadata": {
  "interpreter": {
   "hash": "da5a2775bfbc269f03c2388f905cfd90e4ef0523e536da9878b0757fea621d25"
  },
  "kernelspec": {
   "display_name": "Python 3.7.9 32-bit",
   "language": "python",
   "name": "python3"
  },
  "language_info": {
   "codemirror_mode": {
    "name": "ipython",
    "version": 3
   },
   "file_extension": ".py",
   "mimetype": "text/x-python",
   "name": "python",
   "nbconvert_exporter": "python",
   "pygments_lexer": "ipython3",
   "version": "3.7.9"
  },
  "orig_nbformat": 4
 },
 "nbformat": 4,
 "nbformat_minor": 2
}
