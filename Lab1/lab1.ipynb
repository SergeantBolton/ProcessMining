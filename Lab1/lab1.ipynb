{
 "cells": [
  {
   "cell_type": "markdown",
   "metadata": {},
   "source": [
    "Exercise 0 - Example"
   ]
  },
  {
   "cell_type": "code",
   "execution_count": 1,
   "metadata": {},
   "outputs": [
    {
     "data": {
      "text/plain": [
       "923521"
      ]
     },
     "execution_count": 1,
     "metadata": {},
     "output_type": "execute_result"
    }
   ],
   "source": [
    "q = 31\n",
    "q ** 4"
   ]
  },
  {
   "cell_type": "markdown",
   "metadata": {},
   "source": [
    "Exercise 1"
   ]
  },
  {
   "cell_type": "code",
   "execution_count": 8,
   "metadata": {},
   "outputs": [
    {
     "name": "stdout",
     "output_type": "stream",
     "text": [
      "<class 'list'>\n",
      "<class 'tuple'>\n",
      "<class 'dict'>\n"
     ]
    }
   ],
   "source": [
    "# Create arbitrary list, tuple and dictionary and print them\n",
    "\n",
    "#list\n",
    "x = [1,2,3,4,\"a\",\"b\",\"c\",\"d\"]\n",
    "z_1=type(x)\n",
    "\n",
    "#tuple\n",
    "x = (1,2,3,4,\"a\",\"b\",\"c\",\"d\")\n",
    "z_2=type(x)\n",
    "\n",
    "#dictionary\n",
    "x = {'Name': 'Mykhailo', 1: [1, 2, 3, 4]}\n",
    "z_3=type(x)\n",
    "\n",
    "print(z_1)\n",
    "print(z_2)\n",
    "print(z_3)"
   ]
  },
  {
   "cell_type": "markdown",
   "metadata": {},
   "source": [
    "Exercise 2"
   ]
  },
  {
   "cell_type": "code",
   "execution_count": 56,
   "metadata": {},
   "outputs": [
    {
     "name": "stdout",
     "output_type": "stream",
     "text": [
      "-0.9718448489241566\n",
      "[-0.97184485 -0.34840445  0.2248846  -0.86614371 -0.27964241  0.19509879\n",
      " -0.63106459  2.42222528  0.67357837 -0.16894575]\n",
      "2.525688184617113\n",
      "0.5847974255852166\n",
      "0.7480398412191003\n",
      "0.967411075764101\n",
      "0.2248845958800147\n",
      "0.19509879364693802\n",
      "2.4222252842730776\n",
      "0.6735783727879722\n",
      "0.09879063871352695\n",
      "0.5751291039450511\n",
      "1.1899240601909098\n",
      "1.2581578118452923\n",
      "0.952905673125472\n",
      "1.202020610390511\n",
      "2.825687459651119\n",
      "1.1121954695680996\n",
      "0.057453524333426355\n",
      "0.3445608467101237\n",
      "0.7554737730680319\n",
      "1.1013476603488115\n",
      "1.1559600390909561\n",
      "0.4727003344408289\n",
      "0.540065024216431\n",
      "0.19872863686985331\n",
      "0.1684285781064151\n",
      "1.1362295629253991\n",
      "0.7633700600765226\n",
      "0.907412860820726\n",
      "0.607706641423716\n",
      "0.6385718465849314\n",
      "1.3582678001700998\n",
      "1.0783304209233942\n",
      "0.07144974297709909\n",
      "0.7509565818277023\n",
      "1.0073573865708696\n",
      "0.3271254678102077\n",
      "0.8566767930441943\n",
      "0.2558944790900622\n",
      "0.2519678004979948\n",
      "0.7790698434619062\n",
      "1.2453762769588104\n",
      "0.022509067741363232\n",
      "0.7157138451828988\n",
      "1.4622180928695832\n",
      "1.5523005231054958\n",
      "0.3111626268947921\n",
      "0.22607059721756612\n",
      "0.1591029624178122\n",
      "0.01561594331872024\n",
      "1.7184200706241348\n",
      "0.06767784309112912\n",
      "0.9685996434754605\n"
     ]
    }
   ],
   "source": [
    "# Print the next elements of array s: 10th, from 10 to 20, all elements more than 0\n",
    "import numpy as np\n",
    "s = np.random.normal(0,1,100)\n",
    "\n",
    "# 10th\n",
    "print(s[9])\n",
    "\n",
    "# from 10 to 20\n",
    "print(s[9:19])\n",
    "\n",
    "# all elements more than 0\n",
    "for x in s:\n",
    "    if x>0:\n",
    "        print(x)\n"
   ]
  },
  {
   "cell_type": "markdown",
   "metadata": {},
   "source": [
    "Exercise 3"
   ]
  },
  {
   "cell_type": "code",
   "execution_count": 34,
   "metadata": {},
   "outputs": [
    {
     "name": "stdout",
     "output_type": "stream",
     "text": [
      "8\n"
     ]
    }
   ],
   "source": [
    "# Make a function pow that raised base number to a fixed power power....\n",
    "# ... if power >= 50 print message \"power is too big\" and return -1\n",
    "\n",
    "def pow(number, power):\n",
    "    if power>=50:\n",
    "        print(\"power is too big\")\n",
    "        return -1\n",
    "    else:\n",
    "        return number**power\n",
    "print(pow(2,3))\n"
   ]
  },
  {
   "cell_type": "markdown",
   "metadata": {},
   "source": [
    "Exercise 4"
   ]
  },
  {
   "cell_type": "code",
   "execution_count": 88,
   "metadata": {},
   "outputs": [
    {
     "name": "stdout",
     "output_type": "stream",
     "text": [
      "None\n"
     ]
    }
   ],
   "source": [
    "# Make a function above(x,n) which returns all elements x > n. By default n = 10. Use numpy arrays\n",
    "import numpy as np\n",
    "def above(x,n):\n",
    "    for k in x:\n",
    "         if k > n :\n",
    "            print(k)\n",
    "print(above(np.random.normal(0,1,100),10))\n",
    "        "
   ]
  },
  {
   "cell_type": "markdown",
   "metadata": {},
   "source": [
    "Exercise 5"
   ]
  },
  {
   "cell_type": "code",
   "execution_count": 15,
   "metadata": {},
   "outputs": [
    {
     "name": "stdout",
     "output_type": "stream",
     "text": [
      "1\n",
      "2\n",
      "3\n",
      "4\n",
      "5\n",
      "10\n"
     ]
    }
   ],
   "source": [
    "# Write a function my_ifelse(x, exp, n) which test array x with expression exp to number n. \n",
    "# For instance, my_ifelse(x,'>=',10) returns all elements of array x which greater or equal 10. \n",
    "# exp can be <, >, <=, >=, ==. If exp dont match these expression array x is retured\n",
    "\n",
    "import numpy as np\n",
    "def my_ifelse(x, exp, n):\n",
    "    for ex in x:\n",
    "        if ex > n and exp == \">\" :\n",
    "             print(ex)\n",
    "        elif ex >= n and exp == \">=\":\n",
    "            print(ex)\n",
    "        elif ex == n and  exp == \"==\":\n",
    "            print(ex)\n",
    "        elif ex < n and exp == \"<\"  :\n",
    "            print(ex)\n",
    "        elif ex <= n and exp == \"<=\" :\n",
    "            print(ex)\n",
    "\n",
    "my_ifelse(np.array([1,2,3,4,5,10,11,12,13,14,15]), \"<=\", 10)\n",
    "    "
   ]
  },
  {
   "cell_type": "markdown",
   "metadata": {},
   "source": [
    "Exercise 6"
   ]
  },
  {
   "cell_type": "code",
   "execution_count": 31,
   "metadata": {},
   "outputs": [
    {
     "name": "stdout",
     "output_type": "stream",
     "text": [
      "Counter({'a': 2, 'l': 2, 'o': 2, 'v': 2, 'M': 1, 'y': 1, 'k': 1, 'h': 1, 'i': 1, ' ': 1, 'Y': 1, 'e': 1, 'n': 1})\n"
     ]
    }
   ],
   "source": [
    "# Make a function called counter that takes a string input_string and returns a dictionary of letter counts.\n",
    "word = input(\"Enter a word\")\n",
    "all_freq = {}\n",
    "for i in word:\n",
    "    if i in all_freq:\n",
    "        all_freq[i] += 1\n",
    "    else:\n",
    "        all_freq[i] = 1\n",
    "print (str(all_freq))"
   ]
  },
  {
   "cell_type": "markdown",
   "metadata": {},
   "source": [
    "Exercise 7"
   ]
  },
  {
   "cell_type": "code",
   "execution_count": null,
   "metadata": {},
   "outputs": [],
   "source": [
    "# From the function counter make function counter_sorted with second boolean argumens... \n",
    "# ...reverse that returns sorted letter counts. Order depends of the reverse argument. By default reverse = False\n"
   ]
  }
 ],
 "metadata": {
  "interpreter": {
   "hash": "3516c099f2e50fbe6b83d8aca3e7ba54c35d25f18189c7f24f96f469bdbc3fe7"
  },
  "kernelspec": {
   "display_name": "Python 3.7.9 32-bit",
   "language": "python",
   "name": "python3"
  },
  "language_info": {
   "codemirror_mode": {
    "name": "ipython",
    "version": 3
   },
   "file_extension": ".py",
   "mimetype": "text/x-python",
   "name": "python",
   "nbconvert_exporter": "python",
   "pygments_lexer": "ipython3",
   "version": "3.7.9"
  },
  "orig_nbformat": 4
 },
 "nbformat": 4,
 "nbformat_minor": 2
}
