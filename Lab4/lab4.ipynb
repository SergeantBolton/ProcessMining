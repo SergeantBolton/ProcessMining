{
 "cells": [
  {
   "cell_type": "code",
   "execution_count": null,
   "metadata": {},
   "outputs": [],
   "source": [
    "#Mobile Phones Data\n",
    "#https://www.kaggle.com/datasets/artempozdniakov/ukrainian-market-mobile-phones-data"
   ]
  },
  {
   "cell_type": "markdown",
   "metadata": {},
   "source": [
    "Question 1"
   ]
  },
  {
   "cell_type": "code",
   "execution_count": 2,
   "metadata": {},
   "outputs": [
    {
     "data": {
      "text/html": [
       "<div>\n",
       "<style scoped>\n",
       "    .dataframe tbody tr th:only-of-type {\n",
       "        vertical-align: middle;\n",
       "    }\n",
       "\n",
       "    .dataframe tbody tr th {\n",
       "        vertical-align: top;\n",
       "    }\n",
       "\n",
       "    .dataframe thead th {\n",
       "        text-align: right;\n",
       "    }\n",
       "</style>\n",
       "<table border=\"1\" class=\"dataframe\">\n",
       "  <thead>\n",
       "    <tr style=\"text-align: right;\">\n",
       "      <th></th>\n",
       "      <th>brand_name</th>\n",
       "      <th>model_name</th>\n",
       "      <th>os</th>\n",
       "      <th>popularity</th>\n",
       "      <th>best_price</th>\n",
       "      <th>lowest_price</th>\n",
       "      <th>highest_price</th>\n",
       "      <th>sellers_amount</th>\n",
       "      <th>screen_size</th>\n",
       "      <th>memory_size</th>\n",
       "      <th>battery_size</th>\n",
       "      <th>release_date</th>\n",
       "    </tr>\n",
       "  </thead>\n",
       "  <tbody>\n",
       "    <tr>\n",
       "      <th>0</th>\n",
       "      <td>ALCATEL</td>\n",
       "      <td>1 1/8GB Bluish Black (5033D-2JALUAA)</td>\n",
       "      <td>Android</td>\n",
       "      <td>422</td>\n",
       "      <td>1690.0</td>\n",
       "      <td>1529.0</td>\n",
       "      <td>1819.0</td>\n",
       "      <td>36</td>\n",
       "      <td>5.00</td>\n",
       "      <td>8.0</td>\n",
       "      <td>2000.0</td>\n",
       "      <td>10-2020</td>\n",
       "    </tr>\n",
       "    <tr>\n",
       "      <th>1</th>\n",
       "      <td>ALCATEL</td>\n",
       "      <td>1 5033D 1/16GB Volcano Black (5033D-2LALUAF)</td>\n",
       "      <td>Android</td>\n",
       "      <td>323</td>\n",
       "      <td>1803.0</td>\n",
       "      <td>1659.0</td>\n",
       "      <td>2489.0</td>\n",
       "      <td>36</td>\n",
       "      <td>5.00</td>\n",
       "      <td>16.0</td>\n",
       "      <td>2000.0</td>\n",
       "      <td>9-2020</td>\n",
       "    </tr>\n",
       "    <tr>\n",
       "      <th>2</th>\n",
       "      <td>ALCATEL</td>\n",
       "      <td>1 5033D 1/16GB Volcano Black (5033D-2LALUAF)</td>\n",
       "      <td>Android</td>\n",
       "      <td>299</td>\n",
       "      <td>1803.0</td>\n",
       "      <td>1659.0</td>\n",
       "      <td>2489.0</td>\n",
       "      <td>36</td>\n",
       "      <td>5.00</td>\n",
       "      <td>16.0</td>\n",
       "      <td>2000.0</td>\n",
       "      <td>9-2020</td>\n",
       "    </tr>\n",
       "    <tr>\n",
       "      <th>3</th>\n",
       "      <td>ALCATEL</td>\n",
       "      <td>1 5033D 1/16GB Volcano Black (5033D-2LALUAF)</td>\n",
       "      <td>Android</td>\n",
       "      <td>287</td>\n",
       "      <td>1803.0</td>\n",
       "      <td>1659.0</td>\n",
       "      <td>2489.0</td>\n",
       "      <td>36</td>\n",
       "      <td>5.00</td>\n",
       "      <td>16.0</td>\n",
       "      <td>2000.0</td>\n",
       "      <td>9-2020</td>\n",
       "    </tr>\n",
       "    <tr>\n",
       "      <th>4</th>\n",
       "      <td>Nokia</td>\n",
       "      <td>1.3 1/16GB Charcoal</td>\n",
       "      <td>Android</td>\n",
       "      <td>1047</td>\n",
       "      <td>1999.0</td>\n",
       "      <td>NaN</td>\n",
       "      <td>NaN</td>\n",
       "      <td>10</td>\n",
       "      <td>5.71</td>\n",
       "      <td>16.0</td>\n",
       "      <td>3000.0</td>\n",
       "      <td>4-2020</td>\n",
       "    </tr>\n",
       "  </tbody>\n",
       "</table>\n",
       "</div>"
      ],
      "text/plain": [
       "  brand_name                                    model_name       os  \\\n",
       "0    ALCATEL          1 1/8GB Bluish Black (5033D-2JALUAA)  Android   \n",
       "1    ALCATEL  1 5033D 1/16GB Volcano Black (5033D-2LALUAF)  Android   \n",
       "2    ALCATEL  1 5033D 1/16GB Volcano Black (5033D-2LALUAF)  Android   \n",
       "3    ALCATEL  1 5033D 1/16GB Volcano Black (5033D-2LALUAF)  Android   \n",
       "4      Nokia                           1.3 1/16GB Charcoal  Android   \n",
       "\n",
       "   popularity  best_price  lowest_price  highest_price  sellers_amount  \\\n",
       "0         422      1690.0        1529.0         1819.0              36   \n",
       "1         323      1803.0        1659.0         2489.0              36   \n",
       "2         299      1803.0        1659.0         2489.0              36   \n",
       "3         287      1803.0        1659.0         2489.0              36   \n",
       "4        1047      1999.0           NaN            NaN              10   \n",
       "\n",
       "   screen_size  memory_size  battery_size release_date  \n",
       "0         5.00          8.0        2000.0      10-2020  \n",
       "1         5.00         16.0        2000.0       9-2020  \n",
       "2         5.00         16.0        2000.0       9-2020  \n",
       "3         5.00         16.0        2000.0       9-2020  \n",
       "4         5.71         16.0        3000.0       4-2020  "
      ]
     },
     "execution_count": 2,
     "metadata": {},
     "output_type": "execute_result"
    }
   ],
   "source": [
    "import pandas as pd, numpy as np\n",
    "data = pd.read_csv('C:/Users/Admin/Desktop/phones_data.csv')\n",
    "data = data.drop(columns='Unnamed: 0')\n",
    "data.head()\n"
   ]
  },
  {
   "cell_type": "markdown",
   "metadata": {},
   "source": [
    "Question 1 "
   ]
  },
  {
   "cell_type": "code",
   "execution_count": 18,
   "metadata": {},
   "outputs": [
    {
     "name": "stdout",
     "output_type": "stream",
     "text": [
      "The biggest screen has smartphone 'Surface Duo 6GB/256GB (TGM-00001)' , the size of the screen is 8.1 inches\n"
     ]
    }
   ],
   "source": [
    "#The biggest screen of the smartphone\n",
    "def answer_one():  \n",
    "     print( \"The biggest screen has smartphone '%s' , the size of the screen is %.1f inches\"\n",
    "          % (data['model_name'][data['screen_size'].astype(float).idxmax()], \n",
    "          data['screen_size'].astype(float).max() ))\n",
    "answer_one()\n",
    "\n",
    "\n"
   ]
  },
  {
   "cell_type": "markdown",
   "metadata": {},
   "source": [
    "Question 2 "
   ]
  },
  {
   "cell_type": "code",
   "execution_count": 21,
   "metadata": {},
   "outputs": [
    {
     "name": "stdout",
     "output_type": "stream",
     "text": [
      "The most popular smartphone is 'iPhone 12 Pro 128GB Pacific Blue (MGMN3/MGLR3)' , it has 1224 points of popularity\n"
     ]
    }
   ],
   "source": [
    "#The biggest screen of the smartphone\n",
    "def answer_two():  \n",
    "     print( \"The most popular smartphone is '%s' , it has %d points of popularity\"\n",
    "          % (data['model_name'][data['popularity'].astype(float).idxmax()], \n",
    "          data['popularity'].astype(float).max() ))\n",
    "answer_two()\n"
   ]
  },
  {
   "cell_type": "markdown",
   "metadata": {},
   "source": [
    "Question 3"
   ]
  },
  {
   "cell_type": "code",
   "execution_count": 25,
   "metadata": {},
   "outputs": [
    {
     "name": "stdout",
     "output_type": "stream",
     "text": [
      "The avarage price of the smartphone is 7941$\n"
     ]
    }
   ],
   "source": [
    "#Calculating the avarage price of the smartphone\n",
    "def answer_three():  \n",
    "     print( \"The avarage price of the smartphone is %d$\"\n",
    "          % data['best_price'].astype(float).mean() )\n",
    "answer_three()\n"
   ]
  },
  {
   "cell_type": "markdown",
   "metadata": {},
   "source": [
    "Question 4"
   ]
  },
  {
   "cell_type": "code",
   "execution_count": 37,
   "metadata": {},
   "outputs": [
    {
     "name": "stdout",
     "output_type": "stream",
     "text": [
      "The most common battery size of smartphone is 3687\n"
     ]
    }
   ],
   "source": [
    "#Finding the common battery size of smartphone\n",
    "def answer_four():  \n",
    "     print( \"The most common battery size of smartphone is %d\"\n",
    "          % data['battery_size'].astype(float).median() )\n",
    "answer_four()"
   ]
  },
  {
   "cell_type": "markdown",
   "metadata": {},
   "source": [
    "Question 5"
   ]
  },
  {
   "cell_type": "code",
   "execution_count": 38,
   "metadata": {},
   "outputs": [
    {
     "name": "stdout",
     "output_type": "stream",
     "text": [
      "The biggest difference in price has smartphone 'Nord N10 5G 6/128GB Midnight Ice' , the difference is 38717.0$\n"
     ]
    }
   ],
   "source": [
    "def answer_five():  \n",
    "     print( \"The biggest difference in price has smartphone '%s' , the difference is %.1f$\"\n",
    "          % (data['model_name'][(data[\"highest_price\"]-data[\"lowest_price\"]).astype(float).idxmax()], \n",
    "          (data[\"highest_price\"]-data[\"lowest_price\"]).astype(float).max()))\n",
    "answer_five()\n",
    "\n"
   ]
  }
 ],
 "metadata": {
  "interpreter": {
   "hash": "da5a2775bfbc269f03c2388f905cfd90e4ef0523e536da9878b0757fea621d25"
  },
  "kernelspec": {
   "display_name": "Python 3.7.9 32-bit",
   "language": "python",
   "name": "python3"
  },
  "language_info": {
   "codemirror_mode": {
    "name": "ipython",
    "version": 3
   },
   "file_extension": ".py",
   "mimetype": "text/x-python",
   "name": "python",
   "nbconvert_exporter": "python",
   "pygments_lexer": "ipython3",
   "version": "3.7.9"
  },
  "orig_nbformat": 4
 },
 "nbformat": 4,
 "nbformat_minor": 2
}
